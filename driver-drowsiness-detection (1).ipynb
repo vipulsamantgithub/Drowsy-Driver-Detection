{
 "cells": [
  {
   "cell_type": "code",
   "execution_count": 17,
   "metadata": {
    "_cell_guid": "b1076dfc-b9ad-4769-8c92-a6c4dae69d19",
    "_uuid": "8f2839f25d086af736a60e9eeb907d3b93b6e0e5",
    "execution": {
     "iopub.execute_input": "2022-11-17T05:32:09.185801Z",
     "iopub.status.busy": "2022-11-17T05:32:09.185456Z",
     "iopub.status.idle": "2022-11-17T05:32:16.606580Z",
     "shell.execute_reply": "2022-11-17T05:32:16.605630Z",
     "shell.execute_reply.started": "2022-11-17T05:32:09.185770Z"
    }
   },
   "outputs": [
    {
     "name": "stdout",
     "output_type": "stream",
     "text": [
      "Requirement already satisfied: livelossplot in /opt/conda/lib/python3.7/site-packages (0.5.5)\n",
      "Requirement already satisfied: ipython==7.* in /opt/conda/lib/python3.7/site-packages (from livelossplot) (7.24.1)\n",
      "Requirement already satisfied: bokeh in /opt/conda/lib/python3.7/site-packages (from livelossplot) (2.3.2)\n",
      "Requirement already satisfied: matplotlib in /opt/conda/lib/python3.7/site-packages (from livelossplot) (3.4.2)\n",
      "Requirement already satisfied: numpy<1.22 in /opt/conda/lib/python3.7/site-packages (from livelossplot) (1.19.5)\n",
      "Requirement already satisfied: jedi>=0.16 in /opt/conda/lib/python3.7/site-packages (from ipython==7.*->livelossplot) (0.18.0)\n",
      "Requirement already satisfied: backcall in /opt/conda/lib/python3.7/site-packages (from ipython==7.*->livelossplot) (0.2.0)\n",
      "Requirement already satisfied: prompt-toolkit!=3.0.0,!=3.0.1,<3.1.0,>=2.0.0 in /opt/conda/lib/python3.7/site-packages (from ipython==7.*->livelossplot) (3.0.19)\n",
      "Requirement already satisfied: traitlets>=4.2 in /opt/conda/lib/python3.7/site-packages (from ipython==7.*->livelossplot) (5.0.5)\n",
      "Requirement already satisfied: pickleshare in /opt/conda/lib/python3.7/site-packages (from ipython==7.*->livelossplot) (0.7.5)\n",
      "Requirement already satisfied: setuptools>=18.5 in /opt/conda/lib/python3.7/site-packages (from ipython==7.*->livelossplot) (49.6.0.post20210108)\n",
      "Requirement already satisfied: matplotlib-inline in /opt/conda/lib/python3.7/site-packages (from ipython==7.*->livelossplot) (0.1.2)\n",
      "Requirement already satisfied: pygments in /opt/conda/lib/python3.7/site-packages (from ipython==7.*->livelossplot) (2.9.0)\n",
      "Requirement already satisfied: pexpect>4.3 in /opt/conda/lib/python3.7/site-packages (from ipython==7.*->livelossplot) (4.8.0)\n",
      "Requirement already satisfied: decorator in /opt/conda/lib/python3.7/site-packages (from ipython==7.*->livelossplot) (5.0.9)\n",
      "Requirement already satisfied: parso<0.9.0,>=0.8.0 in /opt/conda/lib/python3.7/site-packages (from jedi>=0.16->ipython==7.*->livelossplot) (0.8.2)\n",
      "Requirement already satisfied: ptyprocess>=0.5 in /opt/conda/lib/python3.7/site-packages (from pexpect>4.3->ipython==7.*->livelossplot) (0.7.0)\n",
      "Requirement already satisfied: wcwidth in /opt/conda/lib/python3.7/site-packages (from prompt-toolkit!=3.0.0,!=3.0.1,<3.1.0,>=2.0.0->ipython==7.*->livelossplot) (0.2.5)\n",
      "Requirement already satisfied: ipython-genutils in /opt/conda/lib/python3.7/site-packages (from traitlets>=4.2->ipython==7.*->livelossplot) (0.2.0)\n",
      "Requirement already satisfied: Jinja2>=2.9 in /opt/conda/lib/python3.7/site-packages (from bokeh->livelossplot) (3.0.1)\n",
      "Requirement already satisfied: typing-extensions>=3.7.4 in /opt/conda/lib/python3.7/site-packages (from bokeh->livelossplot) (3.7.4.3)\n",
      "Requirement already satisfied: PyYAML>=3.10 in /opt/conda/lib/python3.7/site-packages (from bokeh->livelossplot) (5.4.1)\n",
      "Requirement already satisfied: pillow>=7.1.0 in /opt/conda/lib/python3.7/site-packages (from bokeh->livelossplot) (8.2.0)\n",
      "Requirement already satisfied: tornado>=5.1 in /opt/conda/lib/python3.7/site-packages (from bokeh->livelossplot) (6.1)\n",
      "Requirement already satisfied: python-dateutil>=2.1 in /opt/conda/lib/python3.7/site-packages (from bokeh->livelossplot) (2.8.1)\n",
      "Requirement already satisfied: packaging>=16.8 in /opt/conda/lib/python3.7/site-packages (from bokeh->livelossplot) (20.9)\n",
      "Requirement already satisfied: MarkupSafe>=2.0 in /opt/conda/lib/python3.7/site-packages (from Jinja2>=2.9->bokeh->livelossplot) (2.0.1)\n",
      "Requirement already satisfied: pyparsing>=2.0.2 in /opt/conda/lib/python3.7/site-packages (from packaging>=16.8->bokeh->livelossplot) (2.4.7)\n",
      "Requirement already satisfied: six>=1.5 in /opt/conda/lib/python3.7/site-packages (from python-dateutil>=2.1->bokeh->livelossplot) (1.15.0)\n",
      "Requirement already satisfied: cycler>=0.10 in /opt/conda/lib/python3.7/site-packages (from matplotlib->livelossplot) (0.10.0)\n",
      "Requirement already satisfied: kiwisolver>=1.0.1 in /opt/conda/lib/python3.7/site-packages (from matplotlib->livelossplot) (1.3.1)\n",
      "\u001b[33mWARNING: Running pip as root will break packages and permissions. You should install packages reliably by using venv: https://pip.pypa.io/warnings/venv\u001b[0m\n",
      "Tensorflow version: 2.4.1\n"
     ]
    }
   ],
   "source": [
    "!pip install livelossplot\n",
    "import numpy as np\n",
    "import seaborn as sns\n",
    "import matplotlib.pyplot as plt\n",
    "import os\n",
    "%matplotlib inline\n",
    "\n",
    "from tensorflow.keras.preprocessing.image import ImageDataGenerator\n",
    "from tensorflow.keras.layers import Dense, Input, Dropout,Flatten, Conv2D\n",
    "from tensorflow.keras.layers import BatchNormalization, Activation, MaxPooling2D\n",
    "from tensorflow.keras.models import Model, Sequential\n",
    "from tensorflow.keras.optimizers import Adam\n",
    "from tensorflow.keras.callbacks import ModelCheckpoint, ReduceLROnPlateau,EarlyStopping \n",
    "from tensorflow.keras.utils import plot_model\n",
    "\n",
    "from IPython.display import SVG, Image\n",
    "from livelossplot import PlotLossesKerasTF\n",
    "import tensorflow as tf\n",
    "print(\"Tensorflow version:\", tf.__version__)\n",
    "import cv2"
   ]
  },
  {
   "cell_type": "code",
   "execution_count": 18,
   "metadata": {
    "execution": {
     "iopub.execute_input": "2022-11-17T05:32:17.553548Z",
     "iopub.status.busy": "2022-11-17T05:32:17.553187Z",
     "iopub.status.idle": "2022-11-17T05:32:17.557999Z",
     "shell.execute_reply": "2022-11-17T05:32:17.556936Z",
     "shell.execute_reply.started": "2022-11-17T05:32:17.553511Z"
    }
   },
   "outputs": [],
   "source": [
    "train_dir ='../input/eyes-open-or-closed/dataset/train'\n",
    "test_dir  ='../input/eyes-open-or-closed/dataset/test'"
   ]
  },
  {
   "cell_type": "code",
   "execution_count": 55,
   "metadata": {
    "execution": {
     "iopub.execute_input": "2022-11-17T05:57:50.142126Z",
     "iopub.status.busy": "2022-11-17T05:57:50.141731Z",
     "iopub.status.idle": "2022-11-17T05:57:51.014911Z",
     "shell.execute_reply": "2022-11-17T05:57:51.013856Z",
     "shell.execute_reply.started": "2022-11-17T05:57:50.142067Z"
    }
   },
   "outputs": [
    {
     "name": "stdout",
     "output_type": "stream",
     "text": [
      "2 test detected\n",
      "\t 360 Open_Eyes images\n",
      "\t 240 Closed_Eyes images\n",
      "2 train detected\n",
      "\t 1640 Open_Eyes images\n",
      "\t 1760 Closed_Eyes images\n",
      "600\n"
     ]
    }
   ],
   "source": [
    "valSET = []\n",
    "for feature in os.listdir(\"../input/eyes-open-or-closed/dataset\"):\n",
    "    f_list=os.listdir(\"../input/eyes-open-or-closed/dataset/\" + feature)\n",
    "    print(str(len(os.listdir(\"../input/eyes-open-or-closed/dataset/\" + feature))) + \" \" + feature + \" detected\")\n",
    "    for state in f_list:\n",
    "        print(\"\\t\",str(len(os.listdir(\"../input/eyes-open-or-closed/dataset/\" + feature+\"/\"+state))) + \" \" + state + \" images\")\n",
    "        for img in os.listdir(\"../input/eyes-open-or-closed/dataset/\" + feature+\"/\"+state):\n",
    "            if feature==\"test\":\n",
    "                a=\"../input/eyes-open-or-closed/dataset/\" + feature+\"/\"+state+\"/\"+img\n",
    "                x=cv2.resize(cv2.imread(a),(86,86))\n",
    "                x = cv2.cvtColor(x,cv2.COLOR_BGR2GRAY)\n",
    "                y=state\n",
    "                valSET.append((x,y))\n",
    "print(len(valSET))"
   ]
  },
  {
   "cell_type": "code",
   "execution_count": 4,
   "metadata": {
    "execution": {
     "iopub.execute_input": "2022-11-17T05:13:16.324237Z",
     "iopub.status.busy": "2022-11-17T05:13:16.323943Z",
     "iopub.status.idle": "2022-11-17T05:13:20.735700Z",
     "shell.execute_reply": "2022-11-17T05:13:20.734734Z",
     "shell.execute_reply.started": "2022-11-17T05:13:16.324207Z"
    }
   },
   "outputs": [
    {
     "name": "stdout",
     "output_type": "stream",
     "text": [
      "Found 3230 images belonging to 2 classes.\n",
      "Found 600 images belonging to 2 classes.\n",
      "Found 170 images belonging to 2 classes.\n"
     ]
    }
   ],
   "source": [
    "width, height = 86, 86\n",
    "img_size = 86\n",
    "train_generator=tf.keras.preprocessing.image.ImageDataGenerator(rescale=1/255.0,\n",
    "                                                          rotation_range=7,\n",
    "                                                          horizontal_flip=True,\n",
    "                                                          validation_split=0.05\n",
    "                                                         ).flow_from_directory(train_dir,\n",
    "                                                                               class_mode = 'categorical',\n",
    "                                                                               color_mode=\"grayscale\",\n",
    "                                                                               batch_size = 8,\n",
    "                                                           target_size=(width,height),\n",
    "                                                                              subset=\"training\")\n",
    "validation_generator=tf.keras.preprocessing.image.ImageDataGenerator(rescale=1/255.0,\n",
    "                                                         ).flow_from_directory(test_dir,\n",
    "                                                                               class_mode = 'categorical',\n",
    "                                                                               color_mode=\"grayscale\",\n",
    "                                                                               batch_size = 8,\n",
    "                                                                               shuffle = False,\n",
    "                                                           target_size=(width,height))\n",
    "validing=tf.keras.preprocessing.image.ImageDataGenerator(rescale=1/255.0,\n",
    "                                                          rotation_range=7,\n",
    "                                                          horizontal_flip=True,\n",
    "                                                         validation_split=0.05\n",
    "                                                        ).flow_from_directory(train_dir,\n",
    "                                                                              batch_size = 8,\n",
    "                                                                              class_mode = 'categorical',\n",
    "                                                                              color_mode=\"grayscale\",\n",
    "                                                           target_size=(width,height),subset='validation',shuffle=True)"
   ]
  },
  {
   "cell_type": "code",
   "execution_count": 5,
   "metadata": {
    "execution": {
     "iopub.execute_input": "2022-11-17T05:13:20.737461Z",
     "iopub.status.busy": "2022-11-17T05:13:20.737103Z",
     "iopub.status.idle": "2022-11-17T05:13:20.784146Z",
     "shell.execute_reply": "2022-11-17T05:13:20.783196Z",
     "shell.execute_reply.started": "2022-11-17T05:13:20.737414Z"
    }
   },
   "outputs": [],
   "source": [
    "from keras.models import Sequential ,Model\n",
    "from keras.layers import Dense ,Flatten ,Conv2D ,MaxPooling2D ,Dropout ,BatchNormalization  ,Activation ,GlobalMaxPooling2D\n",
    "from keras.optimizers import Adam \n",
    "from keras.callbacks import EarlyStopping ,ReduceLROnPlateau"
   ]
  },
  {
   "cell_type": "code",
   "execution_count": 6,
   "metadata": {
    "execution": {
     "iopub.execute_input": "2022-11-17T05:13:20.785854Z",
     "iopub.status.busy": "2022-11-17T05:13:20.785495Z",
     "iopub.status.idle": "2022-11-17T05:13:20.795017Z",
     "shell.execute_reply": "2022-11-17T05:13:20.794108Z",
     "shell.execute_reply.started": "2022-11-17T05:13:20.785808Z"
    }
   },
   "outputs": [],
   "source": [
    "optimizer=Adam(lr=0.001,beta_1=0.9,beta_2=0.99,decay=0.001/32)\n",
    "EarlyStop=EarlyStopping(patience=10,restore_best_weights=True)\n",
    "Reduce_LR=ReduceLROnPlateau(monitor='val_accuracy',verbose=2,factor=0.5,min_lr=0.00001)\n",
    "callback=[EarlyStop , Reduce_LR]"
   ]
  },
  {
   "cell_type": "code",
   "execution_count": 7,
   "metadata": {
    "execution": {
     "iopub.execute_input": "2022-11-17T05:13:20.796889Z",
     "iopub.status.busy": "2022-11-17T05:13:20.796505Z",
     "iopub.status.idle": "2022-11-17T05:13:23.347634Z",
     "shell.execute_reply": "2022-11-17T05:13:23.346687Z",
     "shell.execute_reply.started": "2022-11-17T05:13:20.796852Z"
    }
   },
   "outputs": [],
   "source": [
    "num_classes = 2\n",
    "num_detectors=32\n",
    "\n",
    "network = Sequential()\n",
    "\n",
    "network.add(Conv2D(num_detectors, (3,3), activation='relu', padding = 'same', input_shape = (img_size, img_size, 1)))\n",
    "network.add(BatchNormalization())\n",
    "network.add(Conv2D(num_detectors, (3,3), activation='relu', padding = 'same'))\n",
    "network.add(BatchNormalization())\n",
    "network.add(MaxPooling2D(pool_size=(2,2)))\n",
    "network.add(Dropout(0.2))\n",
    "\n",
    "network.add(Conv2D(2*num_detectors, (3,3), activation='relu', padding = 'same'))\n",
    "network.add(BatchNormalization())\n",
    "network.add(Conv2D(2*num_detectors, (3,3), activation='relu', padding = 'same'))\n",
    "network.add(BatchNormalization())\n",
    "network.add(MaxPooling2D(pool_size=(2,2)))\n",
    "network.add(Dropout(0.2))\n",
    "\n",
    "network.add(Conv2D(2*2*num_detectors, (3,3), activation='relu', padding = 'same'))\n",
    "network.add(BatchNormalization())\n",
    "network.add(Conv2D(2*2*num_detectors, (3,3), activation='relu', padding = 'same'))\n",
    "network.add(BatchNormalization())\n",
    "network.add(MaxPooling2D(pool_size=(2,2)))\n",
    "network.add(Dropout(0.2))\n",
    "\n",
    "network.add(Conv2D(2*2*2*num_detectors, (3,3), activation='relu', padding = 'same'))\n",
    "network.add(BatchNormalization())\n",
    "network.add(Conv2D(2*2*2*num_detectors, (3,3), activation='relu', padding = 'same'))\n",
    "network.add(BatchNormalization())\n",
    "network.add(MaxPooling2D(pool_size=(2,2)))\n",
    "network.add(Dropout(0.2))\n",
    "\n",
    "network.add(Flatten())\n",
    "\n",
    "network.add(Dense(2 * num_detectors, activation='relu'))\n",
    "network.add(BatchNormalization())\n",
    "network.add(Dropout(0.2))\n",
    "\n",
    "network.add(Dense(2 * num_detectors, activation='relu'))\n",
    "network.add(BatchNormalization())\n",
    "network.add(Dropout(0.2))\n",
    "\n",
    "network.add(Dense(num_classes, activation='softmax'))"
   ]
  },
  {
   "cell_type": "code",
   "execution_count": 8,
   "metadata": {
    "execution": {
     "iopub.execute_input": "2022-11-17T05:13:26.135395Z",
     "iopub.status.busy": "2022-11-17T05:13:26.135035Z",
     "iopub.status.idle": "2022-11-17T05:13:26.154190Z",
     "shell.execute_reply": "2022-11-17T05:13:26.153175Z",
     "shell.execute_reply.started": "2022-11-17T05:13:26.135363Z"
    }
   },
   "outputs": [],
   "source": [
    "network.compile(optimizer=optimizer,loss='categorical_crossentropy', metrics=[\"accuracy\"])"
   ]
  },
  {
   "cell_type": "code",
   "execution_count": 9,
   "metadata": {
    "execution": {
     "iopub.execute_input": "2022-11-17T05:13:27.424137Z",
     "iopub.status.busy": "2022-11-17T05:13:27.423724Z",
     "iopub.status.idle": "2022-11-17T05:13:27.448203Z",
     "shell.execute_reply": "2022-11-17T05:13:27.447297Z",
     "shell.execute_reply.started": "2022-11-17T05:13:27.424068Z"
    }
   },
   "outputs": [
    {
     "name": "stdout",
     "output_type": "stream",
     "text": [
      "Model: \"sequential\"\n",
      "_________________________________________________________________\n",
      "Layer (type)                 Output Shape              Param #   \n",
      "=================================================================\n",
      "conv2d (Conv2D)              (None, 86, 86, 32)        320       \n",
      "_________________________________________________________________\n",
      "batch_normalization (BatchNo (None, 86, 86, 32)        128       \n",
      "_________________________________________________________________\n",
      "conv2d_1 (Conv2D)            (None, 86, 86, 32)        9248      \n",
      "_________________________________________________________________\n",
      "batch_normalization_1 (Batch (None, 86, 86, 32)        128       \n",
      "_________________________________________________________________\n",
      "max_pooling2d (MaxPooling2D) (None, 43, 43, 32)        0         \n",
      "_________________________________________________________________\n",
      "dropout (Dropout)            (None, 43, 43, 32)        0         \n",
      "_________________________________________________________________\n",
      "conv2d_2 (Conv2D)            (None, 43, 43, 64)        18496     \n",
      "_________________________________________________________________\n",
      "batch_normalization_2 (Batch (None, 43, 43, 64)        256       \n",
      "_________________________________________________________________\n",
      "conv2d_3 (Conv2D)            (None, 43, 43, 64)        36928     \n",
      "_________________________________________________________________\n",
      "batch_normalization_3 (Batch (None, 43, 43, 64)        256       \n",
      "_________________________________________________________________\n",
      "max_pooling2d_1 (MaxPooling2 (None, 21, 21, 64)        0         \n",
      "_________________________________________________________________\n",
      "dropout_1 (Dropout)          (None, 21, 21, 64)        0         \n",
      "_________________________________________________________________\n",
      "conv2d_4 (Conv2D)            (None, 21, 21, 128)       73856     \n",
      "_________________________________________________________________\n",
      "batch_normalization_4 (Batch (None, 21, 21, 128)       512       \n",
      "_________________________________________________________________\n",
      "conv2d_5 (Conv2D)            (None, 21, 21, 128)       147584    \n",
      "_________________________________________________________________\n",
      "batch_normalization_5 (Batch (None, 21, 21, 128)       512       \n",
      "_________________________________________________________________\n",
      "max_pooling2d_2 (MaxPooling2 (None, 10, 10, 128)       0         \n",
      "_________________________________________________________________\n",
      "dropout_2 (Dropout)          (None, 10, 10, 128)       0         \n",
      "_________________________________________________________________\n",
      "conv2d_6 (Conv2D)            (None, 10, 10, 256)       295168    \n",
      "_________________________________________________________________\n",
      "batch_normalization_6 (Batch (None, 10, 10, 256)       1024      \n",
      "_________________________________________________________________\n",
      "conv2d_7 (Conv2D)            (None, 10, 10, 256)       590080    \n",
      "_________________________________________________________________\n",
      "batch_normalization_7 (Batch (None, 10, 10, 256)       1024      \n",
      "_________________________________________________________________\n",
      "max_pooling2d_3 (MaxPooling2 (None, 5, 5, 256)         0         \n",
      "_________________________________________________________________\n",
      "dropout_3 (Dropout)          (None, 5, 5, 256)         0         \n",
      "_________________________________________________________________\n",
      "flatten (Flatten)            (None, 6400)              0         \n",
      "_________________________________________________________________\n",
      "dense (Dense)                (None, 64)                409664    \n",
      "_________________________________________________________________\n",
      "batch_normalization_8 (Batch (None, 64)                256       \n",
      "_________________________________________________________________\n",
      "dropout_4 (Dropout)          (None, 64)                0         \n",
      "_________________________________________________________________\n",
      "dense_1 (Dense)              (None, 64)                4160      \n",
      "_________________________________________________________________\n",
      "batch_normalization_9 (Batch (None, 64)                256       \n",
      "_________________________________________________________________\n",
      "dropout_5 (Dropout)          (None, 64)                0         \n",
      "_________________________________________________________________\n",
      "dense_2 (Dense)              (None, 2)                 130       \n",
      "=================================================================\n",
      "Total params: 1,589,986\n",
      "Trainable params: 1,587,810\n",
      "Non-trainable params: 2,176\n",
      "_________________________________________________________________\n"
     ]
    }
   ],
   "source": [
    "network.summary()"
   ]
  },
  {
   "cell_type": "code",
   "execution_count": 10,
   "metadata": {
    "execution": {
     "iopub.execute_input": "2022-11-17T05:13:29.769414Z",
     "iopub.status.busy": "2022-11-17T05:13:29.769003Z",
     "iopub.status.idle": "2022-11-17T05:18:12.377950Z",
     "shell.execute_reply": "2022-11-17T05:18:12.376845Z",
     "shell.execute_reply.started": "2022-11-17T05:13:29.769374Z"
    },
    "scrolled": true
   },
   "outputs": [
    {
     "data": {
      "image/png": "[encoded data removed]",
      "text/plain": [
       "<Figure size 864x576 with 2 Axes>"
      ]
     },
     "metadata": {
      "needs_background": "light"
     },
     "output_type": "display_data"
    },
    {
     "name": "stdout",
     "output_type": "stream",
     "text": [
      "accuracy\n",
      "\ttraining         \t (min:    0.887, max:    0.999, cur:    0.997)\n",
      "\tvalidation       \t (min:    0.767, max:    1.000, cur:    1.000)\n",
      "Loss\n",
      "\ttraining         \t (min:    0.008, max:    0.298, cur:    0.017)\n",
      "\tvalidation       \t (min:    0.000, max:    0.528, cur:    0.000)\n",
      "\n",
      "Epoch 00030: saving model to Eyes.h5\n"
     ]
    }
   ],
   "source": [
    "epochs = 30\n",
    "steps_per_epoch = train_generator.n//train_generator.batch_size\n",
    "validation_steps = validation_generator.n//validation_generator.batch_size\n",
    "\n",
    "reduce_lr = ReduceLROnPlateau(monitor='val_accuracy',verbose=2,factor=0.5,\n",
    "                              patience=2, min_lr=0.00001, mode='auto')\n",
    "checkpoint = ModelCheckpoint(\"Eyes.h5\", monitor='val_accuracy',\n",
    "                             save_weights_only=True, mode='max', verbose=2)\n",
    "callbacks = [EarlyStop ,PlotLossesKerasTF(), checkpoint, reduce_lr]\n",
    "\n",
    "history = network.fit(\n",
    "    x=train_generator,\n",
    "    steps_per_epoch=steps_per_epoch,\n",
    "    epochs=epochs,\n",
    "    validation_data = validation_generator,\n",
    "    validation_steps = validation_steps,\n",
    "    callbacks=callbacks\n",
    ")"
   ]
  },
  {
   "cell_type": "code",
   "execution_count": 11,
   "metadata": {
    "execution": {
     "iopub.execute_input": "2022-11-17T05:18:12.380141Z",
     "iopub.status.busy": "2022-11-17T05:18:12.379753Z",
     "iopub.status.idle": "2022-11-17T05:18:12.393121Z",
     "shell.execute_reply": "2022-11-17T05:18:12.390986Z",
     "shell.execute_reply.started": "2022-11-17T05:18:12.380084Z"
    }
   },
   "outputs": [],
   "source": [
    "model_json = network.to_json()\n",
    "with open(\"eyes.json\", \"w\") as json_file:\n",
    "    json_file.write(model_json)"
   ]
  },
  {
   "cell_type": "code",
   "execution_count": 12,
   "metadata": {
    "execution": {
     "iopub.execute_input": "2022-11-17T05:20:21.953020Z",
     "iopub.status.busy": "2022-11-17T05:20:21.952643Z",
     "iopub.status.idle": "2022-11-17T05:20:22.102521Z",
     "shell.execute_reply": "2022-11-17T05:20:22.101546Z",
     "shell.execute_reply.started": "2022-11-17T05:20:21.952986Z"
    }
   },
   "outputs": [],
   "source": [
    "from sklearn.metrics import classification_report as csr"
   ]
  },
  {
   "cell_type": "code",
   "execution_count": 14,
   "metadata": {
    "execution": {
     "iopub.execute_input": "2022-11-17T05:23:52.188853Z",
     "iopub.status.busy": "2022-11-17T05:23:52.188509Z",
     "iopub.status.idle": "2022-11-17T05:23:53.236341Z",
     "shell.execute_reply": "2022-11-17T05:23:53.235181Z",
     "shell.execute_reply.started": "2022-11-17T05:23:52.188820Z"
    }
   },
   "outputs": [],
   "source": [
    "y_pd = network.predict(validation_generator)"
   ]
  },
  {
   "cell_type": "code",
   "execution_count": 22,
   "metadata": {
    "execution": {
     "iopub.execute_input": "2022-11-17T05:34:18.895603Z",
     "iopub.status.busy": "2022-11-17T05:34:18.895203Z",
     "iopub.status.idle": "2022-11-17T05:34:18.901970Z",
     "shell.execute_reply": "2022-11-17T05:34:18.900616Z",
     "shell.execute_reply.started": "2022-11-17T05:34:18.895564Z"
    }
   },
   "outputs": [
    {
     "name": "stdout",
     "output_type": "stream",
     "text": [
      "len of valiadation set: 600\n"
     ]
    }
   ],
   "source": [
    "print(\"len of valiadation set:\",len(valSET))"
   ]
  },
  {
   "cell_type": "code",
   "execution_count": 32,
   "metadata": {
    "execution": {
     "iopub.execute_input": "2022-11-17T05:37:41.041424Z",
     "iopub.status.busy": "2022-11-17T05:37:41.041045Z",
     "iopub.status.idle": "2022-11-17T05:37:41.047039Z",
     "shell.execute_reply": "2022-11-17T05:37:41.046016Z",
     "shell.execute_reply.started": "2022-11-17T05:37:41.041391Z"
    }
   },
   "outputs": [
    {
     "name": "stdout",
     "output_type": "stream",
     "text": [
      "Closed_Eyes\n",
      "Open_Eyes\n"
     ]
    }
   ],
   "source": [
    "print(valSET[400][1])\n",
    "print(valSET[0][1])"
   ]
  },
  {
   "cell_type": "code",
   "execution_count": null,
   "metadata": {
    "execution": {
     "iopub.status.busy": "2022-11-13T19:32:30.952323Z",
     "iopub.status.idle": "2022-11-13T19:32:30.953018Z"
    }
   },
   "outputs": [],
   "source": [
    "network.save('eyes.h5')"
   ]
  },
  {
   "cell_type": "code",
   "execution_count": 56,
   "metadata": {
    "execution": {
     "iopub.execute_input": "2022-11-17T05:58:20.458229Z",
     "iopub.status.busy": "2022-11-17T05:58:20.457861Z",
     "iopub.status.idle": "2022-11-17T05:58:20.464039Z",
     "shell.execute_reply": "2022-11-17T05:58:20.462969Z",
     "shell.execute_reply.started": "2022-11-17T05:58:20.458192Z"
    }
   },
   "outputs": [
    {
     "name": "stderr",
     "output_type": "stream",
     "text": [
      "/opt/conda/lib/python3.7/site-packages/ipykernel_launcher.py:1: VisibleDeprecationWarning: Creating an ndarray from ragged nested sequences (which is a list-or-tuple of lists-or-tuples-or ndarrays with different lengths or shapes) is deprecated. If you meant to do this, you must specify 'dtype=object' when creating the ndarray\n",
      "  \"\"\"Entry point for launching an IPython kernel.\n"
     ]
    }
   ],
   "source": [
    "val = np.array(valSET)"
   ]
  },
  {
   "cell_type": "code",
   "execution_count": 57,
   "metadata": {
    "execution": {
     "iopub.execute_input": "2022-11-17T05:58:20.859006Z",
     "iopub.status.busy": "2022-11-17T05:58:20.858635Z",
     "iopub.status.idle": "2022-11-17T05:58:20.865375Z",
     "shell.execute_reply": "2022-11-17T05:58:20.864383Z",
     "shell.execute_reply.started": "2022-11-17T05:58:20.858970Z"
    }
   },
   "outputs": [
    {
     "data": {
      "text/plain": [
       "(600, 2)"
      ]
     },
     "execution_count": 57,
     "metadata": {},
     "output_type": "execute_result"
    }
   ],
   "source": [
    "val.shape"
   ]
  },
  {
   "cell_type": "code",
   "execution_count": 68,
   "metadata": {
    "execution": {
     "iopub.execute_input": "2022-11-17T06:02:02.934264Z",
     "iopub.status.busy": "2022-11-17T06:02:02.933857Z",
     "iopub.status.idle": "2022-11-17T06:02:02.949534Z",
     "shell.execute_reply": "2022-11-17T06:02:02.948591Z",
     "shell.execute_reply.started": "2022-11-17T06:02:02.934226Z"
    }
   },
   "outputs": [],
   "source": [
    "x_val=[]\n",
    "y_val=[]\n",
    "for x,y in val:\n",
    "    if \"open\" in y.lower():\n",
    "        y_val.append(1)\n",
    "    else:\n",
    "        y_val.append(0)\n",
    "    x = np.expand_dims(x,axis=2)\n",
    "    x_val.append(x)\n",
    "#     print(x.shape)\n",
    "#     break\n",
    "    \n",
    "    "
   ]
  },
  {
   "cell_type": "code",
   "execution_count": 69,
   "metadata": {
    "execution": {
     "iopub.execute_input": "2022-11-17T06:02:04.331931Z",
     "iopub.status.busy": "2022-11-17T06:02:04.331581Z",
     "iopub.status.idle": "2022-11-17T06:02:04.340358Z",
     "shell.execute_reply": "2022-11-17T06:02:04.339520Z",
     "shell.execute_reply.started": "2022-11-17T06:02:04.331896Z"
    }
   },
   "outputs": [],
   "source": [
    "x_val=np.array(x_val)\n",
    "y_val=np.array(y_val)"
   ]
  },
  {
   "cell_type": "code",
   "execution_count": 70,
   "metadata": {
    "execution": {
     "iopub.execute_input": "2022-11-17T06:02:05.285172Z",
     "iopub.status.busy": "2022-11-17T06:02:05.284798Z",
     "iopub.status.idle": "2022-11-17T06:02:05.293905Z",
     "shell.execute_reply": "2022-11-17T06:02:05.292787Z",
     "shell.execute_reply.started": "2022-11-17T06:02:05.285134Z"
    }
   },
   "outputs": [
    {
     "data": {
      "text/plain": [
       "(600, 86, 86, 1)"
      ]
     },
     "execution_count": 70,
     "metadata": {},
     "output_type": "execute_result"
    }
   ],
   "source": [
    "x_val.shape"
   ]
  },
  {
   "cell_type": "code",
   "execution_count": 71,
   "metadata": {
    "execution": {
     "iopub.execute_input": "2022-11-17T06:02:06.526562Z",
     "iopub.status.busy": "2022-11-17T06:02:06.526213Z",
     "iopub.status.idle": "2022-11-17T06:02:06.532364Z",
     "shell.execute_reply": "2022-11-17T06:02:06.531339Z",
     "shell.execute_reply.started": "2022-11-17T06:02:06.526529Z"
    }
   },
   "outputs": [
    {
     "data": {
      "text/plain": [
       "(600,)"
      ]
     },
     "execution_count": 71,
     "metadata": {},
     "output_type": "execute_result"
    }
   ],
   "source": [
    "y_val.shape"
   ]
  },
  {
   "cell_type": "code",
   "execution_count": 72,
   "metadata": {
    "execution": {
     "iopub.execute_input": "2022-11-17T06:02:07.848145Z",
     "iopub.status.busy": "2022-11-17T06:02:07.847737Z",
     "iopub.status.idle": "2022-11-17T06:02:07.860675Z",
     "shell.execute_reply": "2022-11-17T06:02:07.859682Z",
     "shell.execute_reply.started": "2022-11-17T06:02:07.848074Z"
    }
   },
   "outputs": [
    {
     "data": {
      "text/plain": [
       "1    360\n",
       "0    240\n",
       "dtype: int64"
      ]
     },
     "execution_count": 72,
     "metadata": {},
     "output_type": "execute_result"
    }
   ],
   "source": [
    "import pandas as pd\n",
    "pd.Series(y_val).value_counts()"
   ]
  },
  {
   "cell_type": "code",
   "execution_count": 73,
   "metadata": {
    "execution": {
     "iopub.execute_input": "2022-11-17T06:02:08.624695Z",
     "iopub.status.busy": "2022-11-17T06:02:08.624278Z",
     "iopub.status.idle": "2022-11-17T06:02:09.227054Z",
     "shell.execute_reply": "2022-11-17T06:02:09.226073Z",
     "shell.execute_reply.started": "2022-11-17T06:02:08.624640Z"
    }
   },
   "outputs": [],
   "source": [
    "y_pd=network.predict(x_val)"
   ]
  },
  {
   "cell_type": "code",
   "execution_count": 76,
   "metadata": {
    "execution": {
     "iopub.execute_input": "2022-11-17T06:04:06.180482Z",
     "iopub.status.busy": "2022-11-17T06:04:06.180127Z",
     "iopub.status.idle": "2022-11-17T06:04:06.184343Z",
     "shell.execute_reply": "2022-11-17T06:04:06.183235Z",
     "shell.execute_reply.started": "2022-11-17T06:04:06.180450Z"
    }
   },
   "outputs": [],
   "source": [
    "y_pd=np.argmax(y_pd,axis=1)"
   ]
  },
  {
   "cell_type": "code",
   "execution_count": 77,
   "metadata": {
    "execution": {
     "iopub.execute_input": "2022-11-17T06:04:13.296940Z",
     "iopub.status.busy": "2022-11-17T06:04:13.296621Z",
     "iopub.status.idle": "2022-11-17T06:04:13.303930Z",
     "shell.execute_reply": "2022-11-17T06:04:13.303018Z",
     "shell.execute_reply.started": "2022-11-17T06:04:13.296910Z"
    }
   },
   "outputs": [
    {
     "data": {
      "text/plain": [
       "array([1, 1, 1, 1, 1, 1, 1, 1, 1, 1, 1, 1, 1, 1, 1, 1, 1, 1, 1, 1, 1, 1,\n",
       "       1, 1, 1, 1, 1, 1, 1, 1, 1, 1, 1, 1, 1, 1, 1, 1, 1, 1, 1, 1, 1, 1,\n",
       "       1, 1, 1, 1, 1, 1, 1, 1, 1, 1, 1, 1, 1, 1, 1, 1, 1, 1, 1, 1, 1, 1,\n",
       "       1, 1, 1, 1, 1, 1, 1, 1, 1, 1, 1, 1, 1, 1, 1, 1, 1, 1, 1, 1, 1, 1,\n",
       "       1, 1, 1, 1, 1, 1, 1, 1, 1, 1, 1, 1, 1, 1, 1, 1, 1, 1, 1, 1, 1, 1,\n",
       "       1, 1, 1, 1, 1, 1, 1, 1, 1, 1, 1, 1, 1, 1, 1, 1, 1, 1, 1, 1, 1, 1,\n",
       "       1, 1, 1, 1, 1, 1, 1, 1, 1, 1, 1, 1, 1, 1, 1, 1, 1, 1, 1, 1, 1, 1,\n",
       "       1, 1, 1, 1, 1, 1, 1, 1, 1, 1, 1, 1, 1, 1, 1, 1, 1, 1, 1, 1, 1, 1,\n",
       "       1, 1, 1, 1, 1, 1, 1, 1, 1, 1, 1, 1, 1, 1, 1, 1, 1, 1, 1, 1, 1, 1,\n",
       "       1, 1, 1, 1, 1, 1, 1, 1, 1, 1, 1, 1, 1, 1, 1, 1, 1, 1, 1, 1, 1, 1,\n",
       "       1, 1, 1, 1, 1, 1, 1, 1, 1, 1, 1, 1, 1, 1, 1, 1, 1, 1, 1, 1, 1, 1,\n",
       "       1, 1, 1, 1, 1, 1, 1, 1, 1, 1, 1, 1, 1, 1, 1, 1, 1, 1, 1, 1, 1, 1,\n",
       "       1, 1, 1, 1, 1, 1, 1, 1, 1, 1, 1, 1, 1, 1, 1, 1, 1, 1, 1, 1, 1, 1,\n",
       "       1, 1, 1, 1, 1, 1, 1, 1, 1, 1, 1, 1, 1, 1, 1, 1, 1, 1, 1, 1, 1, 1,\n",
       "       1, 1, 1, 1, 1, 1, 1, 1, 1, 1, 1, 1, 1, 1, 1, 1, 1, 1, 1, 1, 1, 1,\n",
       "       1, 1, 1, 1, 1, 1, 1, 1, 1, 1, 1, 1, 1, 1, 1, 1, 1, 1, 1, 1, 1, 1,\n",
       "       1, 1, 1, 1, 1, 1, 1, 1, 0, 0, 0, 0, 0, 0, 0, 0, 0, 0, 0, 0, 0, 0,\n",
       "       0, 0, 0, 0, 0, 0, 0, 0, 0, 0, 0, 0, 0, 0, 0, 0, 0, 0, 0, 0, 0, 0,\n",
       "       0, 0, 0, 0, 0, 0, 0, 0, 0, 0, 0, 0, 0, 0, 0, 0, 0, 0, 0, 0, 0, 0,\n",
       "       0, 0, 0, 0, 0, 0, 0, 0, 0, 0, 0, 0, 0, 0, 0, 0, 0, 0, 0, 0, 0, 0,\n",
       "       0, 0, 0, 0, 0, 0, 0, 0, 0, 0, 0, 0, 0, 0, 0, 0, 0, 0, 0, 0, 0, 0,\n",
       "       0, 0, 0, 0, 0, 0, 0, 0, 0, 0, 0, 0, 0, 0, 0, 0, 0, 0, 0, 0, 0, 0,\n",
       "       0, 0, 0, 0, 0, 0, 0, 0, 0, 0, 0, 0, 0, 0, 0, 0, 0, 0, 0, 0, 0, 0,\n",
       "       0, 0, 0, 0, 0, 0, 0, 0, 0, 0, 0, 0, 0, 0, 0, 0, 0, 0, 0, 0, 0, 0,\n",
       "       0, 0, 0, 0, 0, 0, 0, 0, 0, 0, 0, 0, 0, 0, 0, 0, 0, 0, 0, 0, 0, 0,\n",
       "       0, 0, 0, 0, 0, 0, 0, 0, 0, 0, 0, 0, 0, 0, 0, 0, 0, 0, 0, 0, 0, 0,\n",
       "       0, 0, 0, 0, 0, 0, 0, 0, 0, 0, 0, 0, 0, 0, 0, 0, 0, 0, 0, 0, 0, 0,\n",
       "       0, 0, 0, 0, 0, 0])"
      ]
     },
     "execution_count": 77,
     "metadata": {},
     "output_type": "execute_result"
    }
   ],
   "source": [
    "y_val"
   ]
  },
  {
   "cell_type": "code",
   "execution_count": 79,
   "metadata": {
    "execution": {
     "iopub.execute_input": "2022-11-17T06:04:44.051541Z",
     "iopub.status.busy": "2022-11-17T06:04:44.051179Z",
     "iopub.status.idle": "2022-11-17T06:04:44.063882Z",
     "shell.execute_reply": "2022-11-17T06:04:44.062637Z",
     "shell.execute_reply.started": "2022-11-17T06:04:44.051506Z"
    }
   },
   "outputs": [
    {
     "name": "stdout",
     "output_type": "stream",
     "text": [
      "              precision    recall  f1-score   support\n",
      "\n",
      "           0       0.96      1.00      0.98       240\n",
      "           1       1.00      0.97      0.98       360\n",
      "\n",
      "    accuracy                           0.98       600\n",
      "   macro avg       0.98      0.98      0.98       600\n",
      "weighted avg       0.98      0.98      0.98       600\n",
      "\n"
     ]
    }
   ],
   "source": [
    "print(csr(y_val,y_pd))"
   ]
  },
  {
   "cell_type": "code",
   "execution_count": null,
   "metadata": {},
   "outputs": [],
   "source": []
  }
 ],
 "metadata": {
  "kernelspec": {
   "display_name": "Python 3 (ipykernel)",
   "language": "python",
   "name": "python3"
  },
  "language_info": {
   "codemirror_mode": {
    "name": "ipython",
    "version": 3
   },
   "file_extension": ".py",
   "mimetype": "text/x-python",
   "name": "python",
   "nbconvert_exporter": "python",
   "pygments_lexer": "ipython3",
   "version": "3.9.11"
  }
 },
 "nbformat": 4,
 "nbformat_minor": 4
}
